{
 "cells": [
  {
   "cell_type": "markdown",
   "metadata": {},
   "source": [
    "# Spider tipcars"
   ]
  },
  {
   "cell_type": "code",
   "execution_count": 2,
   "metadata": {},
   "outputs": [
    {
     "name": "stdout",
     "output_type": "stream",
     "text": [
      "[WinError 3] Systém nemůže nalézt uvedenou cestu: 'Anaconda3\\\\seats'\n",
      "C:\\Users\\jiri_\\Anaconda3\\seats\n"
     ]
    }
   ],
   "source": [
    "%cd Anaconda3\\seats"
   ]
  },
  {
   "cell_type": "code",
   "execution_count": null,
   "metadata": {},
   "outputs": [],
   "source": [
    "! scrapy crawl tipcars"
   ]
  },
  {
   "cell_type": "raw",
   "metadata": {},
   "source": [
    "import scrapy\n",
    "import datetime as dt\n",
    "import sqlalchemy\n",
    "import pandas as pd\n",
    "import keyring\n",
    "class QuotesSpider(scrapy.Spider):\n",
    "    name = \"tipcars\"\n",
    "    start_urls = [\n",
    "         'https://www.tipcars.com/skoda-superb/?mozny-odpocet-dph&servisni-'\n",
    "         'knizka&2016-2019&350000-600000kc&-150000km&vybava=pohon-4x4,tazne-'\n",
    "         'zarizeni,potahy-kuze,aut-prevodovka&str=1-500&text=l%26k',]\n",
    "\n",
    "    service = \"MariaDB\" # name of service in Windows valet\n",
    "    user=\"root\"\n",
    "    db_name=\"ades\"\n",
    "    db_server='localhost'\n",
    "    password = keyring.get_password(service, user)\n",
    "    if not password:\n",
    "        password = input(f'Input password to system {service} for user {user}: ')\n",
    "        keyring.set_password(service, user, password)\n",
    "    conn_string = f\"mysql+pymysql://{user}:{password}@{db_server}/{db_name}\"\n",
    "    self.alchemy_conn = sqlalchemy.create_engine(conn_string)\n",
    "    self.first_day_for_import = alchemy_conn.execute(\"select max(`date`) from seats\").fetchone()[0] + dt.timedelta(days=1)\n",
    "\n",
    "    def parse(self, response):\n",
    "        filename = 'tipcars.html'\n",
    "        htmls = response.xpath('//div[@class=\"blok sloupec_s_inzeratama\"]'\n",
    "                               '/a/@href').getall()\n",
    "        with open(filename, 'w') as f:\n",
    "            for html in htmls:\n",
    "                f.write('https://www.tipcars.com' + html + '\\n')\n",
    "\n",
    "        yield from response.follow_all(htmls, callback=self.parse_car)\n",
    "\n",
    "    def parse_car(self, response):     \n",
    "        url = response.url\n",
    "        date = str(dt.date.today())\n",
    "\n",
    "        try:\n",
    "            price = int(response.xpath('//div[contains(@class,\"koncova_cena\")]'\n",
    "                                  '/b/text()').get().replace(\" \", \"\")[:-2])\n",
    "        except:\n",
    "            price = None\n",
    "        try:\n",
    "            vin =  response.xpath('//div[contains(text(),\"VIN\")]'\n",
    "                                '/following-sibling::div/text()'\n",
    "                                  '').get().strip().replace('-', \"\")\n",
    "        except AttributeError:\n",
    "            vin = None\n",
    "        try:\n",
    "            created = response.xpath('//div[contains(text(),\"vyrobeno\")]'\n",
    "                                '/following-sibling::div/text()').get().strip()\n",
    "        except AttributeError:\n",
    "            created = None\n",
    "        try:\n",
    "            km = int(response.xpath('//div[contains(text(),\"tachometr\")]'\n",
    "                           '/following-sibling::div/text()'\n",
    "                                '').get().replace(\" \", \"\")[:-2])\n",
    "        except:\n",
    "            km = None\n",
    "        try:\n",
    "            type = response.xpath('//div[contains(text(),\"karoserie\")]'\n",
    "                                '/following-sibling::div/text()').get().strip()\n",
    "        except AttributeError:\n",
    "            type = None\n",
    "        try:\n",
    "            color = response.xpath('//div[contains(text(),\"barva\")]'\n",
    "                                '/following-sibling::div/text()').get().strip()\n",
    "        except AttributeError:\n",
    "            color = None\n",
    "        try:\n",
    "            url_ori = response.xpath('//div[contains(text(),\"www\")]'\n",
    "                                  '/following-sibling::div/a/@href').get()\n",
    "        except AttributeError:\n",
    "            url_ori = None\n",
    "\n",
    "        result = {'date': date,\n",
    "               'url': url,\n",
    "               'vin': vin,\n",
    "               'price': price,\n",
    "               'created': created,\n",
    "               'km': km,\n",
    "               'type': type,\n",
    "               'color': color,\n",
    "               'url_ori': url_ori\n",
    "               }\n",
    "\n",
    "        df = pd.DataFrame(result, index=[0])\n",
    "        if self.first_day_for_import <= dt.date.today():\n",
    "            df.to_sql(\"seats\", self.alchemy_conn, if_exists=\"append\", index=False)\n",
    "\n",
    "        yield result\n"
   ]
  },
  {
   "cell_type": "code",
   "execution_count": null,
   "metadata": {},
   "outputs": [],
   "source": [
    "import pandas as pd\n",
    "from make_mysql_connection import make_mysql_connection\n",
    "\n",
    "\n",
    "cars = pd.read_sql(\"seats\", make_mysql_connection()) \n",
    "\n",
    "pd.set_option('display.max_rows', 50)\n",
    "pd.set_option('display.max_columns', 500)\n",
    "pd.set_option('display.width', 500)\n",
    "\n",
    "top_2 = cars['date'].groupby(cars['date']).max().nlargest(3)\n",
    "print(cars[cars['date'].isin(top_2)])\n",
    "\n",
    "                            \n",
    "                             "
   ]
  },
  {
   "cell_type": "code",
   "execution_count": null,
   "metadata": {},
   "outputs": [],
   "source": [
    "%cd"
   ]
  },
  {
   "cell_type": "code",
   "execution_count": null,
   "metadata": {},
   "outputs": [],
   "source": []
  }
 ],
 "metadata": {
  "kernelspec": {
   "display_name": "Python 3",
   "language": "python",
   "name": "python3"
  },
  "language_info": {
   "codemirror_mode": {
    "name": "ipython",
    "version": 3
   },
   "file_extension": ".py",
   "mimetype": "text/x-python",
   "name": "python",
   "nbconvert_exporter": "python",
   "pygments_lexer": "ipython3",
   "version": "3.8.3"
  }
 },
 "nbformat": 4,
 "nbformat_minor": 4
}
